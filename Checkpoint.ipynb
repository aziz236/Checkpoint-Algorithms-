{
 "cells": [
  {
   "cell_type": "code",
   "execution_count": 1,
   "id": "35530677",
   "metadata": {},
   "outputs": [
    {
     "name": "stdout",
     "output_type": "stream",
     "text": [
      "Enter the number you want to search for: 2\n",
      "True\n"
     ]
    }
   ],
   "source": [
    "def binary_search(arr,item):\n",
    "  begin_index=0\n",
    "  end_index=len(arr) - 1\n",
    "  while begin_index<=end_index:\n",
    "    mid=begin_index+(end_index-begin_index)//2\n",
    "    mid_value=arr[mid]\n",
    "    if mid_value==item:\n",
    "      return True\n",
    "    elif mid_value<item:\n",
    "      begin_index=mid+1\n",
    "    elif mid_value>item:\n",
    "      end_index=mid-1\n",
    "  return False\n",
    "Data=[1,2,3,5,8]\n",
    "item=int(input('Enter the number you want to search for: '))\n",
    "print(binary_search(Data,item))"
   ]
  },
  {
   "cell_type": "code",
   "execution_count": 5,
   "id": "aa090f7e",
   "metadata": {},
   "outputs": [
    {
     "name": "stdout",
     "output_type": "stream",
     "text": [
      "81\n"
     ]
    }
   ],
   "source": [
    "def power(a,b):\n",
    "  result=1\n",
    "  for i in range(b):\n",
    "    result=result*a\n",
    "  return result\n",
    "print(power(3,4))\n"
   ]
  },
  {
   "cell_type": "code",
   "execution_count": 7,
   "id": "a6df2a66",
   "metadata": {},
   "outputs": [
    {
     "name": "stdout",
     "output_type": "stream",
     "text": [
      "[13, 22, 29, 37, 46, 49, 52, 56, 71]\n"
     ]
    }
   ],
   "source": [
    "def Bubble_sort(arr):\n",
    "  for t in range(len(arr)-1,0,-1):\n",
    "    for i in range(t):\n",
    "      if arr[i]>arr[i+1]:\n",
    "        arr[i],arr[i+1]=arr[i+1],arr[i]\n",
    "  return arr\n",
    "Data=[29,13,22,37,52,49,46,71,56]\n",
    "print(Bubble_sort(Data))"
   ]
  },
  {
   "cell_type": "code",
   "execution_count": 18,
   "id": "ae9a9d75",
   "metadata": {},
   "outputs": [
    {
     "name": "stdout",
     "output_type": "stream",
     "text": [
      "[13, 22, 29, 37, 46, 49, 52, 56, 71]\n"
     ]
    }
   ],
   "source": [
    "def merge_sort(arr):\n",
    "  if len(arr)>1:\n",
    "    mid=len(arr)//2\n",
    "    left=arr[:mid]\n",
    "    right=arr[mid:]\n",
    "    merge_sort(left)\n",
    "    merge_sort(right)\n",
    "    i=0\n",
    "    j=0\n",
    "    k=0\n",
    "    while i<len(left) and j<len(right):\n",
    "      if left[i]<right[j]:\n",
    "        arr[k]=left[i]\n",
    "        i+=1\n",
    "      else:\n",
    "        arr[k]=right[j]\n",
    "        j+=1\n",
    "      k+=1\n",
    "\n",
    "    while i<len(left):\n",
    "      arr[k]=left[i]\n",
    "      i+=1\n",
    "      k+=1\n",
    "\n",
    "    while j<len(right):\n",
    "      arr[k]=right[j]\n",
    "      j+=1\n",
    "      k+=1\n",
    "  return arr\n",
    "\n",
    "Data=[29,13,22,37,52,49,46,71,56]\n",
    "print(merge_sort(Data))"
   ]
  },
  {
   "cell_type": "code",
   "execution_count": 7,
   "id": "9c0df3f9",
   "metadata": {},
   "outputs": [
    {
     "name": "stdout",
     "output_type": "stream",
     "text": [
      "[13, 22, 29, 37, 46, 49, 52, 56, 56, 71]\n"
     ]
    }
   ],
   "source": [
    "def partition(arr,left,right):\n",
    "  i=left\n",
    "  j=right-1\n",
    "  pivot=arr[right]\n",
    "  while i<j:\n",
    "    while i<right and arr[i]<pivot:\n",
    "      i+=1\n",
    "    while j>left and arr[j]>pivot:\n",
    "      j-=1\n",
    "    if i<j:\n",
    "      arr[i],arr[j]=arr[j],arr[i]\n",
    "  if arr[i]>pivot:\n",
    "    arr[i],arr[right]=arr[right],arr[i]\n",
    "  return i\n",
    "\n",
    "def Quick_sort(arr,left,right):\n",
    "  if left<right:\n",
    "    partition_pos=partition(arr,left,right)\n",
    "    Quick_sort(arr,left,partition_pos-1)\n",
    "    Quick_sort(arr,partition_pos+1,right)\n",
    "Data=[29,13,22,37,52,49,46,71,56]\n",
    "Quick_sort(Data,0,len(Data)-1)\n",
    "print(Data)"
   ]
  },
  {
   "cell_type": "code",
   "execution_count": null,
   "id": "c81fc7f3",
   "metadata": {},
   "outputs": [],
   "source": []
  }
 ],
 "metadata": {
  "kernelspec": {
   "display_name": "Python 3",
   "language": "python",
   "name": "python3"
  },
  "language_info": {
   "codemirror_mode": {
    "name": "ipython",
    "version": 3
   },
   "file_extension": ".py",
   "mimetype": "text/x-python",
   "name": "python",
   "nbconvert_exporter": "python",
   "pygments_lexer": "ipython3",
   "version": "3.8.8"
  }
 },
 "nbformat": 4,
 "nbformat_minor": 5
}
